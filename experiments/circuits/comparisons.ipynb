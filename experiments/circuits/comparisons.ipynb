{
 "cells": [
  {
   "cell_type": "code",
   "execution_count": 54,
   "metadata": {},
   "outputs": [
    {
     "name": "stdout",
     "output_type": "stream",
     "text": [
      "Strategy: cluster, Sample: val.0.3072.2 Features: 14, Mean KLD: 0.1635\n",
      "Strategy: cluster-nopos, Sample: val.0.3072.2 Features: 15, Mean KLD: 0.1533\n",
      "Strategy: zero, Sample: val.0.3072.2 Features: 21, Mean KLD: 0.1498\n",
      "Strategy: random-pos, Sample: val.0.3072.2 Features: 63, Mean KLD: 1.0505\n",
      "Strategy: random, Sample: val.0.3072.2 Features: 53, Mean KLD: 1.2512\n",
      "Strategy: cluster, Sample: val.0.8192.2 Features: 12, Mean KLD: 0.0945\n",
      "Strategy: cluster-nopos, Sample: val.0.8192.2 Features: 14, Mean KLD: 0.1150\n",
      "Strategy: zero, Sample: val.0.8192.2 Features: 39, Mean KLD: 0.1401\n",
      "Strategy: random-pos, Sample: val.0.8192.2 Features: 35, Mean KLD: 1.4327\n",
      "Strategy: random, Sample: val.0.8192.2 Features: 42, Mean KLD: 1.7319\n",
      "Strategy: cluster, Sample: val.0.4096.2 Features: 43, Mean KLD: 0.2291\n",
      "Strategy: cluster-nopos, Sample: val.0.4096.2 Features: 52, Mean KLD: 0.2341\n",
      "Strategy: zero, Sample: val.0.4096.2 Features: 57, Mean KLD: 0.7461\n",
      "Strategy: random-pos, Sample: val.0.4096.2 Features: 85, Mean KLD: 1.7867\n",
      "Strategy: random, Sample: val.0.4096.2 Features: 71, Mean KLD: 2.0797\n",
      "Strategy: cluster, Sample: val.0.0.2 Features: 8, Mean KLD: 0.0946\n",
      "Strategy: cluster-nopos, Sample: val.0.0.2 Features: 11, Mean KLD: 0.1000\n",
      "Strategy: zero, Sample: val.0.0.2 Features: 20, Mean KLD: 0.1204\n",
      "Strategy: random-pos, Sample: val.0.0.2 Features: 46, Mean KLD: 0.3484\n",
      "Strategy: random, Sample: val.0.0.2 Features: 47, Mean KLD: 0.4443\n",
      "Strategy: cluster, Sample: val.0.1024.2 Features: 15, Mean KLD: 0.0786\n",
      "Strategy: cluster-nopos, Sample: val.0.1024.2 Features: 16, Mean KLD: 0.1000\n",
      "Strategy: zero, Sample: val.0.1024.2 Features: 34, Mean KLD: 0.1970\n",
      "Strategy: random-pos, Sample: val.0.1024.2 Features: 45, Mean KLD: 1.6370\n",
      "Strategy: random, Sample: val.0.1024.2 Features: 40, Mean KLD: 1.8081\n",
      "Strategy: cluster, Sample: val.0.10240.2 Features: 14, Mean KLD: 0.1098\n",
      "Strategy: cluster-nopos, Sample: val.0.10240.2 Features: 14, Mean KLD: 0.1336\n",
      "Strategy: zero, Sample: val.0.10240.2 Features: 40, Mean KLD: 0.1893\n",
      "Strategy: random-pos, Sample: val.0.10240.2 Features: 51, Mean KLD: 0.6539\n",
      "Strategy: random, Sample: val.0.10240.2 Features: 43, Mean KLD: 0.7046\n",
      "Strategy: cluster, Sample: val.0.9216.2 Features: 27, Mean KLD: 0.1128\n",
      "Strategy: cluster-nopos, Sample: val.0.9216.2 Features: 27, Mean KLD: 0.0912\n",
      "Strategy: zero, Sample: val.0.9216.2 Features: 31, Mean KLD: 0.2076\n",
      "Strategy: random-pos, Sample: val.0.9216.2 Features: 54, Mean KLD: 1.2810\n",
      "Strategy: random, Sample: val.0.9216.2 Features: 76, Mean KLD: 1.3516\n",
      "Strategy: cluster, Sample: val.0.7168.2 Features: 5, Mean KLD: 0.0669\n",
      "Strategy: cluster-nopos, Sample: val.0.7168.2 Features: 13, Mean KLD: 0.1771\n",
      "Strategy: zero, Sample: val.0.7168.2 Features: 10, Mean KLD: 0.1353\n",
      "Strategy: random-pos, Sample: val.0.7168.2 Features: 20, Mean KLD: 0.2798\n",
      "Strategy: random, Sample: val.0.7168.2 Features: 28, Mean KLD: 0.3032\n",
      "Strategy: cluster, Sample: val.0.2048.2 Features: 15, Mean KLD: 0.1139\n",
      "Strategy: cluster-nopos, Sample: val.0.2048.2 Features: 19, Mean KLD: 0.1193\n",
      "Strategy: zero, Sample: val.0.2048.2 Features: 35, Mean KLD: 0.1899\n",
      "Strategy: random-pos, Sample: val.0.2048.2 Features: 49, Mean KLD: 1.3448\n",
      "Strategy: random, Sample: val.0.2048.2 Features: 62, Mean KLD: 1.2364\n",
      "Strategy: cluster, Sample: val.0.6144.2 Features: 8, Mean KLD: 0.0529\n",
      "Strategy: cluster-nopos, Sample: val.0.6144.2 Features: 13, Mean KLD: 0.1017\n",
      "Strategy: zero, Sample: val.0.6144.2 Features: 18, Mean KLD: 0.1579\n",
      "Strategy: random-pos, Sample: val.0.6144.2 Features: 33, Mean KLD: 0.3478\n",
      "Strategy: random, Sample: val.0.6144.2 Features: 41, Mean KLD: 0.4638\n",
      "Strategy: cluster, Sample: val.0.5120.2 Features: 5, Mean KLD: 0.0244\n",
      "Strategy: cluster-nopos, Sample: val.0.5120.2 Features: 9, Mean KLD: 0.1042\n",
      "Strategy: zero, Sample: val.0.5120.2 Features: 13, Mean KLD: 0.0763\n",
      "Strategy: random-pos, Sample: val.0.5120.2 Features: 46, Mean KLD: 0.6081\n",
      "Strategy: random, Sample: val.0.5120.2 Features: 65, Mean KLD: 0.6620\n"
     ]
    }
   ],
   "source": [
    "import json\n",
    "from pathlib import Path\n",
    "\n",
    "import pandas as pd\n",
    "\n",
    "# Configurations\n",
    "strategies = {\n",
    "    \"cluster\": {\n",
    "        \"name\": \"Cluster resampling\",\n",
    "        \"data\": []\n",
    "    },\n",
    "    \"cluster-nopos\": {\n",
    "        \"name\": \"Cluster resampling<br>(w/o using token position)\",\n",
    "        \"data\": []\n",
    "    },\n",
    "    \"zero\": {\n",
    "        \"name\": \"Zero ablation\",\n",
    "        \"data\": []\n",
    "    },\n",
    "    \"random-pos\": {\n",
    "        \"name\": \"Random resampling (using token position)\",\n",
    "        \"data\": []\n",
    "    },\n",
    "    \"random\": {\n",
    "        \"name\": \"Random resampling\",\n",
    "        \"data\": []\n",
    "    },\n",
    "}\n",
    "model_name = \"e2e.jumprelu.shakespeare_64x4\"\n",
    "\n",
    "# Populate data\n",
    "dirpath = Path(f\"../../checkpoints/{model_name}/ablation-comparisons\")\n",
    "for sample_dir in dirpath.iterdir():\n",
    "    if sample_dir.is_dir():\n",
    "        # For each strategy, list all sample directories\n",
    "        for strategy, profile in strategies.items():\n",
    "            # Load data\n",
    "            data_path = sample_dir / f\"{strategy}.json\"\n",
    "            if data_path.exists():\n",
    "                with open(data_path, \"r\") as f:\n",
    "                    data = json.load(f)\n",
    "\n",
    "                # Compute metrics\n",
    "                num_features = data[\"num_nodes\"]\n",
    "                mean_kld = sum(data[\"klds\"].values()) / len(data[\"klds\"])\n",
    "                print(f\"Strategy: {strategy}, Sample: {sample_dir.name} Features: {num_features}, Mean KLD: {mean_kld:.4f}\")\n",
    "\n",
    "                # Append data\n",
    "                profile[\"data\"].append({\n",
    "                    \"strategy\": profile[\"name\"],\n",
    "                    \"sample\": sample_dir.name,\n",
    "                    \"num_features\": num_features,\n",
    "                    \"mean_kld\": mean_kld,\n",
    "                })\n",
    "\n",
    "# Convert lists to DataFrames\n",
    "for strategy, profile in strategies.items():\n",
    "    profile[\"data\"] = pd.DataFrame(profile[\"data\"]) # type: ignore"
   ]
  },
  {
   "cell_type": "code",
   "execution_count": 55,
   "metadata": {},
   "outputs": [
    {
     "data": {
      "application/vnd.plotly.v1+json": {
       "config": {
        "plotlyServerURL": "https://plot.ly"
       },
       "data": [
        {
         "boxpoints": "all",
         "name": "Cluster resampling",
         "type": "box",
         "x": [
          "Cluster resampling",
          "Cluster resampling",
          "Cluster resampling",
          "Cluster resampling",
          "Cluster resampling",
          "Cluster resampling",
          "Cluster resampling",
          "Cluster resampling",
          "Cluster resampling",
          "Cluster resampling",
          "Cluster resampling"
         ],
         "y": {
          "bdata": "DgwrCA8OGwUPCAU=",
          "dtype": "i1"
         }
        },
        {
         "mode": "text",
         "showlegend": false,
         "text": [
          "14.0"
         ],
         "textposition": "top center",
         "type": "scatter",
         "x": [
          "Cluster resampling"
         ],
         "y": [
          14
         ]
        },
        {
         "boxpoints": "all",
         "name": "Cluster resampling<br>(w/o using token position)",
         "type": "box",
         "x": [
          "Cluster resampling<br>(w/o using token position)",
          "Cluster resampling<br>(w/o using token position)",
          "Cluster resampling<br>(w/o using token position)",
          "Cluster resampling<br>(w/o using token position)",
          "Cluster resampling<br>(w/o using token position)",
          "Cluster resampling<br>(w/o using token position)",
          "Cluster resampling<br>(w/o using token position)",
          "Cluster resampling<br>(w/o using token position)",
          "Cluster resampling<br>(w/o using token position)",
          "Cluster resampling<br>(w/o using token position)",
          "Cluster resampling<br>(w/o using token position)"
         ],
         "y": {
          "bdata": "Dw40CxAOGw0TDQk=",
          "dtype": "i1"
         }
        },
        {
         "mode": "text",
         "showlegend": false,
         "text": [
          "14.0"
         ],
         "textposition": "top center",
         "type": "scatter",
         "x": [
          "Cluster resampling<br>(w/o using token position)"
         ],
         "y": [
          14
         ]
        },
        {
         "boxpoints": "all",
         "name": "Zero ablation",
         "type": "box",
         "x": [
          "Zero ablation",
          "Zero ablation",
          "Zero ablation",
          "Zero ablation",
          "Zero ablation",
          "Zero ablation",
          "Zero ablation",
          "Zero ablation",
          "Zero ablation",
          "Zero ablation",
          "Zero ablation"
         ],
         "y": {
          "bdata": "FSc5FCIoHwojEg0=",
          "dtype": "i1"
         }
        },
        {
         "mode": "text",
         "showlegend": false,
         "text": [
          "31.0"
         ],
         "textposition": "top center",
         "type": "scatter",
         "x": [
          "Zero ablation"
         ],
         "y": [
          31
         ]
        },
        {
         "boxpoints": "all",
         "name": "Random resampling (using token position)",
         "type": "box",
         "x": [
          "Random resampling (using token position)",
          "Random resampling (using token position)",
          "Random resampling (using token position)",
          "Random resampling (using token position)",
          "Random resampling (using token position)",
          "Random resampling (using token position)",
          "Random resampling (using token position)",
          "Random resampling (using token position)",
          "Random resampling (using token position)",
          "Random resampling (using token position)",
          "Random resampling (using token position)"
         ],
         "y": {
          "bdata": "PyNVLi0zNhQxIS4=",
          "dtype": "i1"
         }
        },
        {
         "mode": "text",
         "showlegend": false,
         "text": [
          "46.0"
         ],
         "textposition": "top center",
         "type": "scatter",
         "x": [
          "Random resampling (using token position)"
         ],
         "y": [
          46
         ]
        },
        {
         "boxpoints": "all",
         "name": "Random resampling",
         "type": "box",
         "x": [
          "Random resampling",
          "Random resampling",
          "Random resampling",
          "Random resampling",
          "Random resampling",
          "Random resampling",
          "Random resampling",
          "Random resampling",
          "Random resampling",
          "Random resampling",
          "Random resampling"
         ],
         "y": {
          "bdata": "NSpHLygrTBw+KUE=",
          "dtype": "i1"
         }
        },
        {
         "mode": "text",
         "showlegend": false,
         "text": [
          "47.0"
         ],
         "textposition": "top center",
         "type": "scatter",
         "x": [
          "Random resampling"
         ],
         "y": [
          47
         ]
        }
       ],
       "layout": {
        "showlegend": false,
        "template": {
         "data": {
          "bar": [
           {
            "error_x": {
             "color": "#2a3f5f"
            },
            "error_y": {
             "color": "#2a3f5f"
            },
            "marker": {
             "line": {
              "color": "#E5ECF6",
              "width": 0.5
             },
             "pattern": {
              "fillmode": "overlay",
              "size": 10,
              "solidity": 0.2
             }
            },
            "type": "bar"
           }
          ],
          "barpolar": [
           {
            "marker": {
             "line": {
              "color": "#E5ECF6",
              "width": 0.5
             },
             "pattern": {
              "fillmode": "overlay",
              "size": 10,
              "solidity": 0.2
             }
            },
            "type": "barpolar"
           }
          ],
          "carpet": [
           {
            "aaxis": {
             "endlinecolor": "#2a3f5f",
             "gridcolor": "white",
             "linecolor": "white",
             "minorgridcolor": "white",
             "startlinecolor": "#2a3f5f"
            },
            "baxis": {
             "endlinecolor": "#2a3f5f",
             "gridcolor": "white",
             "linecolor": "white",
             "minorgridcolor": "white",
             "startlinecolor": "#2a3f5f"
            },
            "type": "carpet"
           }
          ],
          "choropleth": [
           {
            "colorbar": {
             "outlinewidth": 0,
             "ticks": ""
            },
            "type": "choropleth"
           }
          ],
          "contour": [
           {
            "colorbar": {
             "outlinewidth": 0,
             "ticks": ""
            },
            "colorscale": [
             [
              0,
              "#0d0887"
             ],
             [
              0.1111111111111111,
              "#46039f"
             ],
             [
              0.2222222222222222,
              "#7201a8"
             ],
             [
              0.3333333333333333,
              "#9c179e"
             ],
             [
              0.4444444444444444,
              "#bd3786"
             ],
             [
              0.5555555555555556,
              "#d8576b"
             ],
             [
              0.6666666666666666,
              "#ed7953"
             ],
             [
              0.7777777777777778,
              "#fb9f3a"
             ],
             [
              0.8888888888888888,
              "#fdca26"
             ],
             [
              1,
              "#f0f921"
             ]
            ],
            "type": "contour"
           }
          ],
          "contourcarpet": [
           {
            "colorbar": {
             "outlinewidth": 0,
             "ticks": ""
            },
            "type": "contourcarpet"
           }
          ],
          "heatmap": [
           {
            "colorbar": {
             "outlinewidth": 0,
             "ticks": ""
            },
            "colorscale": [
             [
              0,
              "#0d0887"
             ],
             [
              0.1111111111111111,
              "#46039f"
             ],
             [
              0.2222222222222222,
              "#7201a8"
             ],
             [
              0.3333333333333333,
              "#9c179e"
             ],
             [
              0.4444444444444444,
              "#bd3786"
             ],
             [
              0.5555555555555556,
              "#d8576b"
             ],
             [
              0.6666666666666666,
              "#ed7953"
             ],
             [
              0.7777777777777778,
              "#fb9f3a"
             ],
             [
              0.8888888888888888,
              "#fdca26"
             ],
             [
              1,
              "#f0f921"
             ]
            ],
            "type": "heatmap"
           }
          ],
          "histogram": [
           {
            "marker": {
             "pattern": {
              "fillmode": "overlay",
              "size": 10,
              "solidity": 0.2
             }
            },
            "type": "histogram"
           }
          ],
          "histogram2d": [
           {
            "colorbar": {
             "outlinewidth": 0,
             "ticks": ""
            },
            "colorscale": [
             [
              0,
              "#0d0887"
             ],
             [
              0.1111111111111111,
              "#46039f"
             ],
             [
              0.2222222222222222,
              "#7201a8"
             ],
             [
              0.3333333333333333,
              "#9c179e"
             ],
             [
              0.4444444444444444,
              "#bd3786"
             ],
             [
              0.5555555555555556,
              "#d8576b"
             ],
             [
              0.6666666666666666,
              "#ed7953"
             ],
             [
              0.7777777777777778,
              "#fb9f3a"
             ],
             [
              0.8888888888888888,
              "#fdca26"
             ],
             [
              1,
              "#f0f921"
             ]
            ],
            "type": "histogram2d"
           }
          ],
          "histogram2dcontour": [
           {
            "colorbar": {
             "outlinewidth": 0,
             "ticks": ""
            },
            "colorscale": [
             [
              0,
              "#0d0887"
             ],
             [
              0.1111111111111111,
              "#46039f"
             ],
             [
              0.2222222222222222,
              "#7201a8"
             ],
             [
              0.3333333333333333,
              "#9c179e"
             ],
             [
              0.4444444444444444,
              "#bd3786"
             ],
             [
              0.5555555555555556,
              "#d8576b"
             ],
             [
              0.6666666666666666,
              "#ed7953"
             ],
             [
              0.7777777777777778,
              "#fb9f3a"
             ],
             [
              0.8888888888888888,
              "#fdca26"
             ],
             [
              1,
              "#f0f921"
             ]
            ],
            "type": "histogram2dcontour"
           }
          ],
          "mesh3d": [
           {
            "colorbar": {
             "outlinewidth": 0,
             "ticks": ""
            },
            "type": "mesh3d"
           }
          ],
          "parcoords": [
           {
            "line": {
             "colorbar": {
              "outlinewidth": 0,
              "ticks": ""
             }
            },
            "type": "parcoords"
           }
          ],
          "pie": [
           {
            "automargin": true,
            "type": "pie"
           }
          ],
          "scatter": [
           {
            "fillpattern": {
             "fillmode": "overlay",
             "size": 10,
             "solidity": 0.2
            },
            "type": "scatter"
           }
          ],
          "scatter3d": [
           {
            "line": {
             "colorbar": {
              "outlinewidth": 0,
              "ticks": ""
             }
            },
            "marker": {
             "colorbar": {
              "outlinewidth": 0,
              "ticks": ""
             }
            },
            "type": "scatter3d"
           }
          ],
          "scattercarpet": [
           {
            "marker": {
             "colorbar": {
              "outlinewidth": 0,
              "ticks": ""
             }
            },
            "type": "scattercarpet"
           }
          ],
          "scattergeo": [
           {
            "marker": {
             "colorbar": {
              "outlinewidth": 0,
              "ticks": ""
             }
            },
            "type": "scattergeo"
           }
          ],
          "scattergl": [
           {
            "marker": {
             "colorbar": {
              "outlinewidth": 0,
              "ticks": ""
             }
            },
            "type": "scattergl"
           }
          ],
          "scattermap": [
           {
            "marker": {
             "colorbar": {
              "outlinewidth": 0,
              "ticks": ""
             }
            },
            "type": "scattermap"
           }
          ],
          "scattermapbox": [
           {
            "marker": {
             "colorbar": {
              "outlinewidth": 0,
              "ticks": ""
             }
            },
            "type": "scattermapbox"
           }
          ],
          "scatterpolar": [
           {
            "marker": {
             "colorbar": {
              "outlinewidth": 0,
              "ticks": ""
             }
            },
            "type": "scatterpolar"
           }
          ],
          "scatterpolargl": [
           {
            "marker": {
             "colorbar": {
              "outlinewidth": 0,
              "ticks": ""
             }
            },
            "type": "scatterpolargl"
           }
          ],
          "scatterternary": [
           {
            "marker": {
             "colorbar": {
              "outlinewidth": 0,
              "ticks": ""
             }
            },
            "type": "scatterternary"
           }
          ],
          "surface": [
           {
            "colorbar": {
             "outlinewidth": 0,
             "ticks": ""
            },
            "colorscale": [
             [
              0,
              "#0d0887"
             ],
             [
              0.1111111111111111,
              "#46039f"
             ],
             [
              0.2222222222222222,
              "#7201a8"
             ],
             [
              0.3333333333333333,
              "#9c179e"
             ],
             [
              0.4444444444444444,
              "#bd3786"
             ],
             [
              0.5555555555555556,
              "#d8576b"
             ],
             [
              0.6666666666666666,
              "#ed7953"
             ],
             [
              0.7777777777777778,
              "#fb9f3a"
             ],
             [
              0.8888888888888888,
              "#fdca26"
             ],
             [
              1,
              "#f0f921"
             ]
            ],
            "type": "surface"
           }
          ],
          "table": [
           {
            "cells": {
             "fill": {
              "color": "#EBF0F8"
             },
             "line": {
              "color": "white"
             }
            },
            "header": {
             "fill": {
              "color": "#C8D4E3"
             },
             "line": {
              "color": "white"
             }
            },
            "type": "table"
           }
          ]
         },
         "layout": {
          "annotationdefaults": {
           "arrowcolor": "#2a3f5f",
           "arrowhead": 0,
           "arrowwidth": 1
          },
          "autotypenumbers": "strict",
          "coloraxis": {
           "colorbar": {
            "outlinewidth": 0,
            "ticks": ""
           }
          },
          "colorscale": {
           "diverging": [
            [
             0,
             "#8e0152"
            ],
            [
             0.1,
             "#c51b7d"
            ],
            [
             0.2,
             "#de77ae"
            ],
            [
             0.3,
             "#f1b6da"
            ],
            [
             0.4,
             "#fde0ef"
            ],
            [
             0.5,
             "#f7f7f7"
            ],
            [
             0.6,
             "#e6f5d0"
            ],
            [
             0.7,
             "#b8e186"
            ],
            [
             0.8,
             "#7fbc41"
            ],
            [
             0.9,
             "#4d9221"
            ],
            [
             1,
             "#276419"
            ]
           ],
           "sequential": [
            [
             0,
             "#0d0887"
            ],
            [
             0.1111111111111111,
             "#46039f"
            ],
            [
             0.2222222222222222,
             "#7201a8"
            ],
            [
             0.3333333333333333,
             "#9c179e"
            ],
            [
             0.4444444444444444,
             "#bd3786"
            ],
            [
             0.5555555555555556,
             "#d8576b"
            ],
            [
             0.6666666666666666,
             "#ed7953"
            ],
            [
             0.7777777777777778,
             "#fb9f3a"
            ],
            [
             0.8888888888888888,
             "#fdca26"
            ],
            [
             1,
             "#f0f921"
            ]
           ],
           "sequentialminus": [
            [
             0,
             "#0d0887"
            ],
            [
             0.1111111111111111,
             "#46039f"
            ],
            [
             0.2222222222222222,
             "#7201a8"
            ],
            [
             0.3333333333333333,
             "#9c179e"
            ],
            [
             0.4444444444444444,
             "#bd3786"
            ],
            [
             0.5555555555555556,
             "#d8576b"
            ],
            [
             0.6666666666666666,
             "#ed7953"
            ],
            [
             0.7777777777777778,
             "#fb9f3a"
            ],
            [
             0.8888888888888888,
             "#fdca26"
            ],
            [
             1,
             "#f0f921"
            ]
           ]
          },
          "colorway": [
           "#636efa",
           "#EF553B",
           "#00cc96",
           "#ab63fa",
           "#FFA15A",
           "#19d3f3",
           "#FF6692",
           "#B6E880",
           "#FF97FF",
           "#FECB52"
          ],
          "font": {
           "color": "#2a3f5f"
          },
          "geo": {
           "bgcolor": "white",
           "lakecolor": "white",
           "landcolor": "#E5ECF6",
           "showlakes": true,
           "showland": true,
           "subunitcolor": "white"
          },
          "hoverlabel": {
           "align": "left"
          },
          "hovermode": "closest",
          "mapbox": {
           "style": "light"
          },
          "paper_bgcolor": "white",
          "plot_bgcolor": "#E5ECF6",
          "polar": {
           "angularaxis": {
            "gridcolor": "white",
            "linecolor": "white",
            "ticks": ""
           },
           "bgcolor": "#E5ECF6",
           "radialaxis": {
            "gridcolor": "white",
            "linecolor": "white",
            "ticks": ""
           }
          },
          "scene": {
           "xaxis": {
            "backgroundcolor": "#E5ECF6",
            "gridcolor": "white",
            "gridwidth": 2,
            "linecolor": "white",
            "showbackground": true,
            "ticks": "",
            "zerolinecolor": "white"
           },
           "yaxis": {
            "backgroundcolor": "#E5ECF6",
            "gridcolor": "white",
            "gridwidth": 2,
            "linecolor": "white",
            "showbackground": true,
            "ticks": "",
            "zerolinecolor": "white"
           },
           "zaxis": {
            "backgroundcolor": "#E5ECF6",
            "gridcolor": "white",
            "gridwidth": 2,
            "linecolor": "white",
            "showbackground": true,
            "ticks": "",
            "zerolinecolor": "white"
           }
          },
          "shapedefaults": {
           "line": {
            "color": "#2a3f5f"
           }
          },
          "ternary": {
           "aaxis": {
            "gridcolor": "white",
            "linecolor": "white",
            "ticks": ""
           },
           "baxis": {
            "gridcolor": "white",
            "linecolor": "white",
            "ticks": ""
           },
           "bgcolor": "#E5ECF6",
           "caxis": {
            "gridcolor": "white",
            "linecolor": "white",
            "ticks": ""
           }
          },
          "title": {
           "x": 0.05
          },
          "xaxis": {
           "automargin": true,
           "gridcolor": "white",
           "linecolor": "white",
           "ticks": "",
           "title": {
            "standoff": 15
           },
           "zerolinecolor": "white",
           "zerolinewidth": 2
          },
          "yaxis": {
           "automargin": true,
           "gridcolor": "white",
           "linecolor": "white",
           "ticks": "",
           "title": {
            "standoff": 15
           },
           "zerolinecolor": "white",
           "zerolinewidth": 2
          }
         }
        },
        "xaxis": {
         "tickangle": 0,
         "title": {
          "text": ""
         }
        },
        "yaxis": {
         "title": {
          "text": ""
         }
        }
       }
      }
     },
     "metadata": {},
     "output_type": "display_data"
    },
    {
     "name": "stdout",
     "output_type": "stream",
     "text": [
      "Cluster resampling: 15.0909\n",
      "Cluster resampling<br>(w/o using token position): 18.4545\n",
      "Zero ablation: 28.9091\n",
      "Random resampling (using token position): 47.9091\n",
      "Random resampling: 51.6364\n"
     ]
    }
   ],
   "source": [
    "# Plot mean number of features\n",
    "\n",
    "import plotly.graph_objects as go\n",
    "import pandas as pd\n",
    "\n",
    "# Create a DataFrame by concatenating the data from all strategies\n",
    "df = pd.concat([profile[\"data\"] for profile in strategies.values()])\n",
    "\n",
    "# Create a violin plot for each strategy\n",
    "fig = go.Figure()\n",
    "\n",
    "for strategy in df[\"strategy\"].unique():\n",
    "    strategy_data = df[df[\"strategy\"] == strategy]\n",
    "    median_value = strategy_data[\"num_features\"].median()\n",
    "    fig.add_trace(go.Box(\n",
    "        x=strategy_data[\"strategy\"],\n",
    "        y=strategy_data[\"num_features\"],\n",
    "        name=strategy,\n",
    "        boxpoints=\"all\"  # Show all points\n",
    "    ))\n",
    "    # Add a text annotation\n",
    "    fig.add_trace(go.Scatter(\n",
    "        x=[strategy],\n",
    "        y=[median_value],\n",
    "        mode=\"text\",\n",
    "        text=[f\"{round(median_value, 2)}\"],\n",
    "        textposition=\"top center\",\n",
    "        showlegend=False\n",
    "    ))\n",
    "\n",
    "# Update layout\n",
    "fig.update_layout(\n",
    "    xaxis=dict(title=\"\", tickangle=0),\n",
    "    yaxis=dict(title=\"\"),\n",
    "    showlegend=False,\n",
    ")\n",
    "\n",
    "fig.show()\n",
    "\n",
    "# Print means\n",
    "for strategy in strategies.values():\n",
    "    mean_features = strategy[\"data\"][\"num_features\"].mean()\n",
    "    print(f\"{strategy['name']}: {mean_features:.4f}\")"
   ]
  },
  {
   "cell_type": "code",
   "execution_count": 57,
   "metadata": {},
   "outputs": [
    {
     "data": {
      "application/vnd.plotly.v1+json": {
       "config": {
        "plotlyServerURL": "https://plot.ly"
       },
       "data": [
        {
         "boxpoints": "all",
         "name": "Cluster resampling",
         "type": "box",
         "x": [
          "Cluster resampling",
          "Cluster resampling",
          "Cluster resampling",
          "Cluster resampling",
          "Cluster resampling",
          "Cluster resampling",
          "Cluster resampling",
          "Cluster resampling",
          "Cluster resampling",
          "Cluster resampling",
          "Cluster resampling"
         ],
         "y": {
          "bdata": "mpmZ+QDsxD8AAACg0DK4PwAAAKBOVM0/mpmZ2fk0uD8zMzNHlSC0PwAAALC2GLw/mpmZ8X7jvD9mZmY2Rx+xP5qZmUEUK70/MzMzE6IQqz/NzMyM4vKYPw==",
          "dtype": "f8"
         }
        },
        {
         "mode": "text",
         "showlegend": false,
         "text": [
          "0.09"
         ],
         "textposition": "top center",
         "type": "scatter",
         "x": [
          "Cluster resampling"
         ],
         "y": [
          0.09455834925174714
         ]
        },
        {
         "boxpoints": "all",
         "name": "Cluster resampling<br>(w/o using token position)",
         "type": "box",
         "x": [
          "Cluster resampling<br>(w/o using token position)",
          "Cluster resampling<br>(w/o using token position)",
          "Cluster resampling<br>(w/o using token position)",
          "Cluster resampling<br>(w/o using token position)",
          "Cluster resampling<br>(w/o using token position)",
          "Cluster resampling<br>(w/o using token position)",
          "Cluster resampling<br>(w/o using token position)",
          "Cluster resampling<br>(w/o using token position)",
          "Cluster resampling<br>(w/o using token position)",
          "Cluster resampling<br>(w/o using token position)",
          "Cluster resampling<br>(w/o using token position)"
         ],
         "y": {
          "bdata": "mpmZuSygwz/NzMzcKXO9PwAAACBh+M0/ZmZm4oOWuT/NzMzAiZq5P83MzAS7GME/zczMjHhYtz8AAADAE6zGP5qZmZG9i74/AAAAMO0Huj9mZmbO9666Pw==",
          "dtype": "f8"
         }
        },
        {
         "mode": "text",
         "showlegend": false,
         "text": [
          "0.12"
         ],
         "textposition": "top center",
         "type": "scatter",
         "x": [
          "Cluster resampling<br>(w/o using token position)"
         ],
         "y": [
          0.11503850594162941
         ]
        },
        {
         "boxpoints": "all",
         "name": "Zero ablation",
         "type": "box",
         "x": [
          "Zero ablation",
          "Zero ablation",
          "Zero ablation",
          "Zero ablation",
          "Zero ablation",
          "Zero ablation",
          "Zero ablation",
          "Zero ablation",
          "Zero ablation",
          "Zero ablation",
          "Zero ablation"
         ],
         "y": {
          "bdata": "ZmZmRv4rwz+amZnZFfDBP83MzMw14Oc/MzMz40vQvj9mZmZ2BTfJPwAAAJD3Osg/AAAA4AKSyj8AAABwLlHBP5qZmdnxT8g/AAAAMF02xD9mZmYWhIazPw==",
          "dtype": "f8"
         }
        },
        {
         "mode": "text",
         "showlegend": false,
         "text": [
          "0.16"
         ],
         "textposition": "top center",
         "type": "scatter",
         "x": [
          "Zero ablation"
         ],
         "y": [
          0.15790905803442
         ]
        },
        {
         "boxpoints": "all",
         "name": "Random resampling (using token position)",
         "type": "box",
         "x": [
          "Random resampling (using token position)",
          "Random resampling (using token position)",
          "Random resampling (using token position)",
          "Random resampling (using token position)",
          "Random resampling (using token position)",
          "Random resampling (using token position)",
          "Random resampling (using token position)",
          "Random resampling (using token position)",
          "Random resampling (using token position)",
          "Random resampling (using token position)",
          "Random resampling (using token position)"
         ],
         "y": {
          "bdata": "MzMz2+jO8D8zMzPTOez2P83MzKwwlvw/MzMzW71L1j9mZmYWUzH6PwAAAKDu7OQ/ZmZmluR+9D9mZmbm6OjRP2ZmZgY1hPU/AAAA0KJC1j8zMzOjcnXjPw==",
          "dtype": "f8"
         }
        },
        {
         "mode": "text",
         "showlegend": false,
         "text": [
          "1.05"
         ],
         "textposition": "top center",
         "type": "scatter",
         "x": [
          "Random resampling (using token position)"
         ],
         "y": [
          1.0505150377750396
         ]
        },
        {
         "boxpoints": "all",
         "name": "Random resampling",
         "type": "box",
         "x": [
          "Random resampling",
          "Random resampling",
          "Random resampling",
          "Random resampling",
          "Random resampling",
          "Random resampling",
          "Random resampling",
          "Random resampling",
          "Random resampling",
          "Random resampling",
          "Random resampling"
         ],
         "y": {
          "bdata": "mpmZyRIF9D/NzMxsyLX7P83MzCwqowBAMzMzUw1v3D8AAABAye38P83MzKz9i+Y/MzMzkwqg9T+amZmB3WfTP83MzOxmyPM/ZmZm9rGv3T9mZmZ2ty7lPw==",
          "dtype": "f8"
         }
        },
        {
         "mode": "text",
         "showlegend": false,
         "text": [
          "1.24"
         ],
         "textposition": "top center",
         "type": "scatter",
         "x": [
          "Random resampling"
         ],
         "y": [
          1.2364262819290162
         ]
        }
       ],
       "layout": {
        "showlegend": false,
        "template": {
         "data": {
          "bar": [
           {
            "error_x": {
             "color": "#2a3f5f"
            },
            "error_y": {
             "color": "#2a3f5f"
            },
            "marker": {
             "line": {
              "color": "#E5ECF6",
              "width": 0.5
             },
             "pattern": {
              "fillmode": "overlay",
              "size": 10,
              "solidity": 0.2
             }
            },
            "type": "bar"
           }
          ],
          "barpolar": [
           {
            "marker": {
             "line": {
              "color": "#E5ECF6",
              "width": 0.5
             },
             "pattern": {
              "fillmode": "overlay",
              "size": 10,
              "solidity": 0.2
             }
            },
            "type": "barpolar"
           }
          ],
          "carpet": [
           {
            "aaxis": {
             "endlinecolor": "#2a3f5f",
             "gridcolor": "white",
             "linecolor": "white",
             "minorgridcolor": "white",
             "startlinecolor": "#2a3f5f"
            },
            "baxis": {
             "endlinecolor": "#2a3f5f",
             "gridcolor": "white",
             "linecolor": "white",
             "minorgridcolor": "white",
             "startlinecolor": "#2a3f5f"
            },
            "type": "carpet"
           }
          ],
          "choropleth": [
           {
            "colorbar": {
             "outlinewidth": 0,
             "ticks": ""
            },
            "type": "choropleth"
           }
          ],
          "contour": [
           {
            "colorbar": {
             "outlinewidth": 0,
             "ticks": ""
            },
            "colorscale": [
             [
              0,
              "#0d0887"
             ],
             [
              0.1111111111111111,
              "#46039f"
             ],
             [
              0.2222222222222222,
              "#7201a8"
             ],
             [
              0.3333333333333333,
              "#9c179e"
             ],
             [
              0.4444444444444444,
              "#bd3786"
             ],
             [
              0.5555555555555556,
              "#d8576b"
             ],
             [
              0.6666666666666666,
              "#ed7953"
             ],
             [
              0.7777777777777778,
              "#fb9f3a"
             ],
             [
              0.8888888888888888,
              "#fdca26"
             ],
             [
              1,
              "#f0f921"
             ]
            ],
            "type": "contour"
           }
          ],
          "contourcarpet": [
           {
            "colorbar": {
             "outlinewidth": 0,
             "ticks": ""
            },
            "type": "contourcarpet"
           }
          ],
          "heatmap": [
           {
            "colorbar": {
             "outlinewidth": 0,
             "ticks": ""
            },
            "colorscale": [
             [
              0,
              "#0d0887"
             ],
             [
              0.1111111111111111,
              "#46039f"
             ],
             [
              0.2222222222222222,
              "#7201a8"
             ],
             [
              0.3333333333333333,
              "#9c179e"
             ],
             [
              0.4444444444444444,
              "#bd3786"
             ],
             [
              0.5555555555555556,
              "#d8576b"
             ],
             [
              0.6666666666666666,
              "#ed7953"
             ],
             [
              0.7777777777777778,
              "#fb9f3a"
             ],
             [
              0.8888888888888888,
              "#fdca26"
             ],
             [
              1,
              "#f0f921"
             ]
            ],
            "type": "heatmap"
           }
          ],
          "histogram": [
           {
            "marker": {
             "pattern": {
              "fillmode": "overlay",
              "size": 10,
              "solidity": 0.2
             }
            },
            "type": "histogram"
           }
          ],
          "histogram2d": [
           {
            "colorbar": {
             "outlinewidth": 0,
             "ticks": ""
            },
            "colorscale": [
             [
              0,
              "#0d0887"
             ],
             [
              0.1111111111111111,
              "#46039f"
             ],
             [
              0.2222222222222222,
              "#7201a8"
             ],
             [
              0.3333333333333333,
              "#9c179e"
             ],
             [
              0.4444444444444444,
              "#bd3786"
             ],
             [
              0.5555555555555556,
              "#d8576b"
             ],
             [
              0.6666666666666666,
              "#ed7953"
             ],
             [
              0.7777777777777778,
              "#fb9f3a"
             ],
             [
              0.8888888888888888,
              "#fdca26"
             ],
             [
              1,
              "#f0f921"
             ]
            ],
            "type": "histogram2d"
           }
          ],
          "histogram2dcontour": [
           {
            "colorbar": {
             "outlinewidth": 0,
             "ticks": ""
            },
            "colorscale": [
             [
              0,
              "#0d0887"
             ],
             [
              0.1111111111111111,
              "#46039f"
             ],
             [
              0.2222222222222222,
              "#7201a8"
             ],
             [
              0.3333333333333333,
              "#9c179e"
             ],
             [
              0.4444444444444444,
              "#bd3786"
             ],
             [
              0.5555555555555556,
              "#d8576b"
             ],
             [
              0.6666666666666666,
              "#ed7953"
             ],
             [
              0.7777777777777778,
              "#fb9f3a"
             ],
             [
              0.8888888888888888,
              "#fdca26"
             ],
             [
              1,
              "#f0f921"
             ]
            ],
            "type": "histogram2dcontour"
           }
          ],
          "mesh3d": [
           {
            "colorbar": {
             "outlinewidth": 0,
             "ticks": ""
            },
            "type": "mesh3d"
           }
          ],
          "parcoords": [
           {
            "line": {
             "colorbar": {
              "outlinewidth": 0,
              "ticks": ""
             }
            },
            "type": "parcoords"
           }
          ],
          "pie": [
           {
            "automargin": true,
            "type": "pie"
           }
          ],
          "scatter": [
           {
            "fillpattern": {
             "fillmode": "overlay",
             "size": 10,
             "solidity": 0.2
            },
            "type": "scatter"
           }
          ],
          "scatter3d": [
           {
            "line": {
             "colorbar": {
              "outlinewidth": 0,
              "ticks": ""
             }
            },
            "marker": {
             "colorbar": {
              "outlinewidth": 0,
              "ticks": ""
             }
            },
            "type": "scatter3d"
           }
          ],
          "scattercarpet": [
           {
            "marker": {
             "colorbar": {
              "outlinewidth": 0,
              "ticks": ""
             }
            },
            "type": "scattercarpet"
           }
          ],
          "scattergeo": [
           {
            "marker": {
             "colorbar": {
              "outlinewidth": 0,
              "ticks": ""
             }
            },
            "type": "scattergeo"
           }
          ],
          "scattergl": [
           {
            "marker": {
             "colorbar": {
              "outlinewidth": 0,
              "ticks": ""
             }
            },
            "type": "scattergl"
           }
          ],
          "scattermap": [
           {
            "marker": {
             "colorbar": {
              "outlinewidth": 0,
              "ticks": ""
             }
            },
            "type": "scattermap"
           }
          ],
          "scattermapbox": [
           {
            "marker": {
             "colorbar": {
              "outlinewidth": 0,
              "ticks": ""
             }
            },
            "type": "scattermapbox"
           }
          ],
          "scatterpolar": [
           {
            "marker": {
             "colorbar": {
              "outlinewidth": 0,
              "ticks": ""
             }
            },
            "type": "scatterpolar"
           }
          ],
          "scatterpolargl": [
           {
            "marker": {
             "colorbar": {
              "outlinewidth": 0,
              "ticks": ""
             }
            },
            "type": "scatterpolargl"
           }
          ],
          "scatterternary": [
           {
            "marker": {
             "colorbar": {
              "outlinewidth": 0,
              "ticks": ""
             }
            },
            "type": "scatterternary"
           }
          ],
          "surface": [
           {
            "colorbar": {
             "outlinewidth": 0,
             "ticks": ""
            },
            "colorscale": [
             [
              0,
              "#0d0887"
             ],
             [
              0.1111111111111111,
              "#46039f"
             ],
             [
              0.2222222222222222,
              "#7201a8"
             ],
             [
              0.3333333333333333,
              "#9c179e"
             ],
             [
              0.4444444444444444,
              "#bd3786"
             ],
             [
              0.5555555555555556,
              "#d8576b"
             ],
             [
              0.6666666666666666,
              "#ed7953"
             ],
             [
              0.7777777777777778,
              "#fb9f3a"
             ],
             [
              0.8888888888888888,
              "#fdca26"
             ],
             [
              1,
              "#f0f921"
             ]
            ],
            "type": "surface"
           }
          ],
          "table": [
           {
            "cells": {
             "fill": {
              "color": "#EBF0F8"
             },
             "line": {
              "color": "white"
             }
            },
            "header": {
             "fill": {
              "color": "#C8D4E3"
             },
             "line": {
              "color": "white"
             }
            },
            "type": "table"
           }
          ]
         },
         "layout": {
          "annotationdefaults": {
           "arrowcolor": "#2a3f5f",
           "arrowhead": 0,
           "arrowwidth": 1
          },
          "autotypenumbers": "strict",
          "coloraxis": {
           "colorbar": {
            "outlinewidth": 0,
            "ticks": ""
           }
          },
          "colorscale": {
           "diverging": [
            [
             0,
             "#8e0152"
            ],
            [
             0.1,
             "#c51b7d"
            ],
            [
             0.2,
             "#de77ae"
            ],
            [
             0.3,
             "#f1b6da"
            ],
            [
             0.4,
             "#fde0ef"
            ],
            [
             0.5,
             "#f7f7f7"
            ],
            [
             0.6,
             "#e6f5d0"
            ],
            [
             0.7,
             "#b8e186"
            ],
            [
             0.8,
             "#7fbc41"
            ],
            [
             0.9,
             "#4d9221"
            ],
            [
             1,
             "#276419"
            ]
           ],
           "sequential": [
            [
             0,
             "#0d0887"
            ],
            [
             0.1111111111111111,
             "#46039f"
            ],
            [
             0.2222222222222222,
             "#7201a8"
            ],
            [
             0.3333333333333333,
             "#9c179e"
            ],
            [
             0.4444444444444444,
             "#bd3786"
            ],
            [
             0.5555555555555556,
             "#d8576b"
            ],
            [
             0.6666666666666666,
             "#ed7953"
            ],
            [
             0.7777777777777778,
             "#fb9f3a"
            ],
            [
             0.8888888888888888,
             "#fdca26"
            ],
            [
             1,
             "#f0f921"
            ]
           ],
           "sequentialminus": [
            [
             0,
             "#0d0887"
            ],
            [
             0.1111111111111111,
             "#46039f"
            ],
            [
             0.2222222222222222,
             "#7201a8"
            ],
            [
             0.3333333333333333,
             "#9c179e"
            ],
            [
             0.4444444444444444,
             "#bd3786"
            ],
            [
             0.5555555555555556,
             "#d8576b"
            ],
            [
             0.6666666666666666,
             "#ed7953"
            ],
            [
             0.7777777777777778,
             "#fb9f3a"
            ],
            [
             0.8888888888888888,
             "#fdca26"
            ],
            [
             1,
             "#f0f921"
            ]
           ]
          },
          "colorway": [
           "#636efa",
           "#EF553B",
           "#00cc96",
           "#ab63fa",
           "#FFA15A",
           "#19d3f3",
           "#FF6692",
           "#B6E880",
           "#FF97FF",
           "#FECB52"
          ],
          "font": {
           "color": "#2a3f5f"
          },
          "geo": {
           "bgcolor": "white",
           "lakecolor": "white",
           "landcolor": "#E5ECF6",
           "showlakes": true,
           "showland": true,
           "subunitcolor": "white"
          },
          "hoverlabel": {
           "align": "left"
          },
          "hovermode": "closest",
          "mapbox": {
           "style": "light"
          },
          "paper_bgcolor": "white",
          "plot_bgcolor": "#E5ECF6",
          "polar": {
           "angularaxis": {
            "gridcolor": "white",
            "linecolor": "white",
            "ticks": ""
           },
           "bgcolor": "#E5ECF6",
           "radialaxis": {
            "gridcolor": "white",
            "linecolor": "white",
            "ticks": ""
           }
          },
          "scene": {
           "xaxis": {
            "backgroundcolor": "#E5ECF6",
            "gridcolor": "white",
            "gridwidth": 2,
            "linecolor": "white",
            "showbackground": true,
            "ticks": "",
            "zerolinecolor": "white"
           },
           "yaxis": {
            "backgroundcolor": "#E5ECF6",
            "gridcolor": "white",
            "gridwidth": 2,
            "linecolor": "white",
            "showbackground": true,
            "ticks": "",
            "zerolinecolor": "white"
           },
           "zaxis": {
            "backgroundcolor": "#E5ECF6",
            "gridcolor": "white",
            "gridwidth": 2,
            "linecolor": "white",
            "showbackground": true,
            "ticks": "",
            "zerolinecolor": "white"
           }
          },
          "shapedefaults": {
           "line": {
            "color": "#2a3f5f"
           }
          },
          "ternary": {
           "aaxis": {
            "gridcolor": "white",
            "linecolor": "white",
            "ticks": ""
           },
           "baxis": {
            "gridcolor": "white",
            "linecolor": "white",
            "ticks": ""
           },
           "bgcolor": "#E5ECF6",
           "caxis": {
            "gridcolor": "white",
            "linecolor": "white",
            "ticks": ""
           }
          },
          "title": {
           "x": 0.05
          },
          "xaxis": {
           "automargin": true,
           "gridcolor": "white",
           "linecolor": "white",
           "ticks": "",
           "title": {
            "standoff": 15
           },
           "zerolinecolor": "white",
           "zerolinewidth": 2
          },
          "yaxis": {
           "automargin": true,
           "gridcolor": "white",
           "linecolor": "white",
           "ticks": "",
           "title": {
            "standoff": 15
           },
           "zerolinecolor": "white",
           "zerolinewidth": 2
          }
         }
        },
        "xaxis": {
         "tickangle": 0,
         "title": {
          "text": ""
         }
        },
        "yaxis": {
         "title": {
          "text": ""
         }
        }
       }
      }
     },
     "metadata": {},
     "output_type": "display_data"
    },
    {
     "name": "stdout",
     "output_type": "stream",
     "text": [
      "Cluster resampling: 0.1037\n",
      "Cluster resampling<br>(w/o using token position): 0.1300\n",
      "Zero ablation: 0.2100\n",
      "Random resampling (using token position): 0.9792\n",
      "Random resampling: 1.0942\n"
     ]
    }
   ],
   "source": [
    "# Plot mean KLD\n",
    "\n",
    "import plotly.graph_objects as go\n",
    "import pandas as pd\n",
    "\n",
    "# Create a DataFrame by concatenating the data from all strategies\n",
    "df = pd.concat([profile[\"data\"] for profile in strategies.values()])\n",
    "\n",
    "# Create a violin plot for each strategy\n",
    "fig = go.Figure()\n",
    "\n",
    "for strategy in df[\"strategy\"].unique():\n",
    "    strategy_data = df[df[\"strategy\"] == strategy]\n",
    "    median_value = strategy_data[\"mean_kld\"].median()\n",
    "    fig.add_trace(go.Box(\n",
    "        x=strategy_data[\"strategy\"],\n",
    "        y=strategy_data[\"mean_kld\"],\n",
    "        name=strategy,\n",
    "        boxpoints=\"all\"  # Show all points\n",
    "    ))\n",
    "    # Add a text annotation\n",
    "    fig.add_trace(go.Scatter(\n",
    "        x=[strategy],\n",
    "        y=[median_value],\n",
    "        mode=\"text\",\n",
    "        text=[f\"{round(median_value, 2)}\"],\n",
    "        textposition=\"top center\",\n",
    "        showlegend=False\n",
    "    ))\n",
    "\n",
    "# Update layout\n",
    "fig.update_layout(\n",
    "    xaxis=dict(title=\"\", tickangle=0),\n",
    "    yaxis=dict(title=\"\"),\n",
    "    showlegend=False,\n",
    ")\n",
    "\n",
    "fig.show()\n",
    "\n",
    "# Print means\n",
    "for strategy in strategies.values():\n",
    "    mean_kld = strategy[\"data\"][\"mean_kld\"].mean()\n",
    "    print(f\"{strategy['name']}: {mean_kld:.4f}\")"
   ]
  }
 ],
 "metadata": {
  "kernelspec": {
   "display_name": ".venv",
   "language": "python",
   "name": "python3"
  },
  "language_info": {
   "codemirror_mode": {
    "name": "ipython",
    "version": 3
   },
   "file_extension": ".py",
   "mimetype": "text/x-python",
   "name": "python",
   "nbconvert_exporter": "python",
   "pygments_lexer": "ipython3",
   "version": "3.12.5"
  }
 },
 "nbformat": 4,
 "nbformat_minor": 2
}
